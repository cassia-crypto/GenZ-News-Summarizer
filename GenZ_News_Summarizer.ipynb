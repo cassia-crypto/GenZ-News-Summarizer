{
 "cells": [
  {
   "cell_type": "markdown",
   "metadata": {
    "id": "4Ffg1FAgjDHB"
   },
   "source": [
    "#t-5 small\n"
   ]
  },
  {
   "cell_type": "markdown",
   "metadata": {
    "id": "MYu9KTRWl_-4"
   },
   "source": [
    "# Step 1: Installing Dependencies\n"
   ]
  },
  {
   "cell_type": "code",
   "execution_count": 5,
   "metadata": {
    "colab": {
     "base_uri": "https://localhost:8080/"
    },
    "id": "Ebnf523DcbZ6",
    "outputId": "06835681-6110-44e3-c3d7-29d9d8355b13"
   },
   "outputs": [
    {
     "name": "stdout",
     "output_type": "stream",
     "text": [
      "Requirement already satisfied: transformers in /usr/local/lib/python3.11/dist-packages (4.53.0)\n",
      "Requirement already satisfied: sentencepiece in /usr/local/lib/python3.11/dist-packages (0.2.0)\n",
      "Requirement already satisfied: filelock in /usr/local/lib/python3.11/dist-packages (from transformers) (3.18.0)\n",
      "Requirement already satisfied: huggingface-hub<1.0,>=0.30.0 in /usr/local/lib/python3.11/dist-packages (from transformers) (0.33.1)\n",
      "Requirement already satisfied: numpy>=1.17 in /usr/local/lib/python3.11/dist-packages (from transformers) (2.0.2)\n",
      "Requirement already satisfied: packaging>=20.0 in /usr/local/lib/python3.11/dist-packages (from transformers) (24.2)\n",
      "Requirement already satisfied: pyyaml>=5.1 in /usr/local/lib/python3.11/dist-packages (from transformers) (6.0.2)\n",
      "Requirement already satisfied: regex!=2019.12.17 in /usr/local/lib/python3.11/dist-packages (from transformers) (2024.11.6)\n",
      "Requirement already satisfied: requests in /usr/local/lib/python3.11/dist-packages (from transformers) (2.32.3)\n",
      "Requirement already satisfied: tokenizers<0.22,>=0.21 in /usr/local/lib/python3.11/dist-packages (from transformers) (0.21.2)\n",
      "Requirement already satisfied: safetensors>=0.4.3 in /usr/local/lib/python3.11/dist-packages (from transformers) (0.5.3)\n",
      "Requirement already satisfied: tqdm>=4.27 in /usr/local/lib/python3.11/dist-packages (from transformers) (4.67.1)\n",
      "Requirement already satisfied: fsspec>=2023.5.0 in /usr/local/lib/python3.11/dist-packages (from huggingface-hub<1.0,>=0.30.0->transformers) (2025.3.2)\n",
      "Requirement already satisfied: typing-extensions>=3.7.4.3 in /usr/local/lib/python3.11/dist-packages (from huggingface-hub<1.0,>=0.30.0->transformers) (4.14.0)\n",
      "Requirement already satisfied: hf-xet<2.0.0,>=1.1.2 in /usr/local/lib/python3.11/dist-packages (from huggingface-hub<1.0,>=0.30.0->transformers) (1.1.5)\n",
      "Requirement already satisfied: charset-normalizer<4,>=2 in /usr/local/lib/python3.11/dist-packages (from requests->transformers) (3.4.2)\n",
      "Requirement already satisfied: idna<4,>=2.5 in /usr/local/lib/python3.11/dist-packages (from requests->transformers) (3.10)\n",
      "Requirement already satisfied: urllib3<3,>=1.21.1 in /usr/local/lib/python3.11/dist-packages (from requests->transformers) (2.4.0)\n",
      "Requirement already satisfied: certifi>=2017.4.17 in /usr/local/lib/python3.11/dist-packages (from requests->transformers) (2025.6.15)\n"
     ]
    }
   ],
   "source": [
    "!pip install transformers sentencepiece\n"
   ]
  },
  {
   "cell_type": "markdown",
   "metadata": {
    "id": "IIbTXh2bmDWN"
   },
   "source": [
    "#STEP 2: Load T5 Model for Summarization\n"
   ]
  },
  {
   "cell_type": "code",
   "execution_count": 6,
   "metadata": {
    "colab": {
     "base_uri": "https://localhost:8080/",
     "height": 350,
     "referenced_widgets": [
      "0a108b48d7934469a46450d3c0806040",
      "d45f4fd4d60741a78630478ec5f4ac16",
      "7ef37f29aac84f4396a01c60c619c76c",
      "05e1a88c5d9c4c07aa806ed3e5794da0",
      "42e8cbeab93b4ad3a73d2ac9a130bfe4",
      "d7f797a18f4a4e8b95287b2c6f597304",
      "1ff717e4a388420582bf1407c2db1fe0",
      "a8ea9bc3721b491a9862ba88d4bc0b0d",
      "39ce59649f1c4f0b8634f1ae001f8479",
      "e564c11364614864abbad0370169843a",
      "d2e7bd5cff1e47328d5ec286a77de821",
      "642394f1d61c41ed84b76d01fc780765",
      "107409d6b8b64185822ae67a9e779d45",
      "5659cd4cb4684a6aae284a021fdbe6f5",
      "d44bf2397fc8488da715a00dfd376ff3",
      "c1abe3e4bfa34375a8ec122bccaaa737",
      "d2e762a2ce9a4d0fa76647505f54646a",
      "3bdfce5b22b0481ebfc89e8e3ef6cf64",
      "fa4f9b41e95a4a3ea615659ede7d29c5",
      "2596a68b270048bbba57ca311c1a742c",
      "3f842b21c62b4fc38977954f3fb6c96e",
      "fb1b93a6a0784382a53a94c12baed37b",
      "ec70cdd9c5e743a1b0c791b5bc893236",
      "7dae2066331944ae9ba520aeeee7fb8e",
      "cedb2bc26a7942eb8ecc3de534209c3b",
      "da5e0cd717934866a0e60ebba7623c8a",
      "8c079cb77c6040c9aaa876f20248f43b",
      "034a95ce867e4ae1a5b2eeefa06e7fa3",
      "55087716695449dc9911da780e331aa1",
      "a15c7e4bcdee41e7837bea2d3b8366a1",
      "b210c603a18a4333b4fea1331cabc1f3",
      "bb88ca4bddf7415b8679d91492a1357b",
      "764bb3203e564b07a30762256724d5f6",
      "084f2249f3f44d5ba2b9136891f1071c",
      "66ef65fd1d134506b152e9fefa732877",
      "71cb5a6a23914a61b828d61a8afe6b5d",
      "373ee2d660c4455290576887cf84f083",
      "ea2d6375495a4aeaaded4826ef4c56a2",
      "866be206b5d84504a0f2091444ae5438",
      "974ae139e3a64d34b4e845a097b94ad3",
      "f668b3a13f8c42c9a4b636662ee8d258",
      "42ae08276c1349acba97285c31eafae5",
      "9855cb3b57bb49948821e9a24ad71b5d",
      "75c233ac13b14e859186e8fd9eab3308",
      "3a48e2d57fb14ede897f6570d70535ec",
      "624e62813ec340798decef9ce15c3c6f",
      "dabd1344cff34c328452e40ca0616922",
      "ba66603db97746ae9413a742420c57bf",
      "a8612d87fab94dd0bd03f6052c86dece",
      "b9a0b3ab032046a29260a259c74e4bb6",
      "1083d05648774da894459ce2e3e72614",
      "32eaf7337ec549f8bedc8c0cd347c5c4",
      "0bde74e5b6ff4bbf8b5f987c6e3f5400",
      "1b11a58db50346029467fd756f486232",
      "dbd9b0e0e59a4de38a9ce13d386e97b5",
      "ba281b77331c4cc7810bdc792f1130a8",
      "fc49c09a3b9e44ac8e307c1aea0ac599",
      "7204a0e8b9ed4bf3bd4038d863d828dd",
      "9fc715965bb74e1e892d7e6f4d9f5ed8",
      "b115f16b2ca34c878267a5578c02a288",
      "1e955a503fbf4c5d91a459aa51a463dd",
      "e501773afeae44d1b2e7c18d281a744d",
      "8146f371c9e7408ab52c6da4b3734203",
      "0f7860dd45f0477785616444c42ddb44",
      "ebed7fd4a7f74ea69f2c6245480bde1c",
      "8cd0ae186bd84e39add4ad68f4cc6ebc"
     ]
    },
    "id": "NCFnHKtmdgaW",
    "outputId": "3fbc076f-d158-41ed-ba07-8edb00c97d5f"
   },
   "outputs": [
    {
     "name": "stderr",
     "output_type": "stream",
     "text": [
      "/usr/local/lib/python3.11/dist-packages/huggingface_hub/utils/_auth.py:94: UserWarning: \n",
      "The secret `HF_TOKEN` does not exist in your Colab secrets.\n",
      "To authenticate with the Hugging Face Hub, create a token in your settings tab (https://huggingface.co/settings/tokens), set it as secret in your Google Colab and restart your session.\n",
      "You will be able to reuse this secret in all of your notebooks.\n",
      "Please note that authentication is recommended but still optional to access public models or datasets.\n",
      "  warnings.warn(\n"
     ]
    },
    {
     "data": {
      "application/vnd.jupyter.widget-view+json": {
       "model_id": "0a108b48d7934469a46450d3c0806040",
       "version_major": 2,
       "version_minor": 0
      },
      "text/plain": [
       "tokenizer_config.json:   0%|          | 0.00/2.32k [00:00<?, ?B/s]"
      ]
     },
     "metadata": {},
     "output_type": "display_data"
    },
    {
     "data": {
      "application/vnd.jupyter.widget-view+json": {
       "model_id": "642394f1d61c41ed84b76d01fc780765",
       "version_major": 2,
       "version_minor": 0
      },
      "text/plain": [
       "spiece.model:   0%|          | 0.00/792k [00:00<?, ?B/s]"
      ]
     },
     "metadata": {},
     "output_type": "display_data"
    },
    {
     "data": {
      "application/vnd.jupyter.widget-view+json": {
       "model_id": "ec70cdd9c5e743a1b0c791b5bc893236",
       "version_major": 2,
       "version_minor": 0
      },
      "text/plain": [
       "tokenizer.json:   0%|          | 0.00/1.39M [00:00<?, ?B/s]"
      ]
     },
     "metadata": {},
     "output_type": "display_data"
    },
    {
     "name": "stderr",
     "output_type": "stream",
     "text": [
      "You are using the default legacy behaviour of the <class 'transformers.models.t5.tokenization_t5.T5Tokenizer'>. This is expected, and simply means that the `legacy` (previous) behavior will be used so nothing changes for you. If you want to use the new behaviour, set `legacy=False`. This should only be set if you understand what it means, and thoroughly read the reason why this was added as explained in https://github.com/huggingface/transformers/pull/24565\n"
     ]
    },
    {
     "data": {
      "application/vnd.jupyter.widget-view+json": {
       "model_id": "084f2249f3f44d5ba2b9136891f1071c",
       "version_major": 2,
       "version_minor": 0
      },
      "text/plain": [
       "config.json:   0%|          | 0.00/1.21k [00:00<?, ?B/s]"
      ]
     },
     "metadata": {},
     "output_type": "display_data"
    },
    {
     "data": {
      "application/vnd.jupyter.widget-view+json": {
       "model_id": "3a48e2d57fb14ede897f6570d70535ec",
       "version_major": 2,
       "version_minor": 0
      },
      "text/plain": [
       "model.safetensors:   0%|          | 0.00/242M [00:00<?, ?B/s]"
      ]
     },
     "metadata": {},
     "output_type": "display_data"
    },
    {
     "data": {
      "application/vnd.jupyter.widget-view+json": {
       "model_id": "ba281b77331c4cc7810bdc792f1130a8",
       "version_major": 2,
       "version_minor": 0
      },
      "text/plain": [
       "generation_config.json:   0%|          | 0.00/147 [00:00<?, ?B/s]"
      ]
     },
     "metadata": {},
     "output_type": "display_data"
    }
   ],
   "source": [
    "from transformers import T5ForConditionalGeneration, T5Tokenizer\n",
    "\n",
    "# Load pre-trained T5 model and tokenizer\n",
    "tokenizer = T5Tokenizer.from_pretrained(\"t5-small\")\n",
    "model = T5ForConditionalGeneration.from_pretrained(\"t5-small\")\n",
    "\n",
    "def summarize_news(article_text):\n",
    "    # Prepend task prefix\n",
    "    input_text = \"summarize: \" + article_text.strip().replace(\"\\n\", \" \")\n",
    "    input_ids = tokenizer.encode(input_text, return_tensors=\"pt\", max_length=512, truncation=True)\n",
    "\n",
    "    # Generate summary\n",
    "    summary_ids = model.generate(\n",
    "        input_ids,\n",
    "        max_length=80,\n",
    "        min_length=30,\n",
    "        num_beams=4,\n",
    "        length_penalty=2.0,\n",
    "        early_stopping=True\n",
    "    )\n",
    "    summary = tokenizer.decode(summary_ids[0], skip_special_tokens=True)\n",
    "    return summary\n"
   ]
  },
  {
   "cell_type": "markdown",
   "metadata": {
    "id": "vM5hKXf2mDZs"
   },
   "source": [
    "#STEP 3: Test Summarizer with Real Article (Example)\n"
   ]
  },
  {
   "cell_type": "code",
   "execution_count": 7,
   "metadata": {
    "colab": {
     "base_uri": "https://localhost:8080/"
    },
    "id": "IzxI12nElwlg",
    "outputId": "99ab6322-6cb5-4b6d-eab9-9c5aae1ef6e0"
   },
   "outputs": [
    {
     "name": "stdout",
     "output_type": "stream",
     "text": [
      "📰 Summarized News:\n",
      "the spacecraft was launched from the Satish Dhawan Space Centre in Sriharikota at 2:35 pm on friday. this marks India's continued efforts in advancing space exploration and follows the Chandrayaan-2 mission.\n"
     ]
    }
   ],
   "source": [
    "sample_article = \"\"\"\n",
    "The Indian Space Research Organisation (ISRO) successfully launched its Chandrayaan-3 mission on Friday, aiming to land a rover on the Moon's surface.\n",
    "This marks India's continued efforts in advancing space exploration and follows the Chandrayaan-2 mission, which partially failed in 2019.\n",
    "The spacecraft was launched from the Satish Dhawan Space Centre in Sriharikota at 2:35 pm. Scientists hope to gather valuable data about the lunar surface.\n",
    "\"\"\"\n",
    "\n",
    "summary = summarize_news(sample_article)\n",
    "print(\"📰 Summarized News:\")\n",
    "print(summary)\n"
   ]
  },
  {
   "cell_type": "markdown",
   "metadata": {
    "id": "G80X3vKEmeb7"
   },
   "source": [
    "#STEP 4: Create GenZ Style Transfer Function\n"
   ]
  },
  {
   "cell_type": "code",
   "execution_count": 8,
   "metadata": {
    "id": "eTiV1xg5l8CK"
   },
   "outputs": [],
   "source": [
    "import random\n",
    "\n",
    "def genzify(text):\n",
    "    slang = {\n",
    "        \"india\": \"desi squad 🇮🇳\",\n",
    "        \"government\": \"gvmnt\",\n",
    "        \"prime minister\": \"PM\",\n",
    "        \"scientists\": \"science gang 🧪\",\n",
    "        \"space\": \"🚀\",\n",
    "        \"moon\": \"🌕\",\n",
    "        \"rover\": \"space car\",\n",
    "        \"launched\": \"blasted off 🚀\",\n",
    "        \"data\": \"intel\",\n",
    "        \"gather\": \"snatch\",\n",
    "        \"successfully\": \"nailed it 🔥\",\n",
    "        \"mission\": \"quest\",\n",
    "        \"failed\": \"flopped 💀\",\n",
    "        \"surface\": \"outer layer\"\n",
    "    }\n",
    "\n",
    "    # Lowercase for easier matching\n",
    "    genz_text = text.lower()\n",
    "    for word, slang_word in slang.items():\n",
    "        genz_text = genz_text.replace(word, slang_word)\n",
    "\n",
    "    # Add GenZ spice at the end\n",
    "    spice = [\"no cap.\", \"vibes 💯\", \"this go hard fr\", \"lowkey slay 🚀\", \"bruh 😭\"]\n",
    "    genz_text += \" \" + random.choice(spice)\n",
    "\n",
    "    return genz_text\n"
   ]
  },
  {
   "cell_type": "code",
   "execution_count": 9,
   "metadata": {
    "colab": {
     "base_uri": "https://localhost:8080/"
    },
    "id": "iPDgAvZ9mnEk",
    "outputId": "aff4acc4-93e6-443a-cc4f-a3e8b0935a56"
   },
   "outputs": [
    {
     "name": "stdout",
     "output_type": "stream",
     "text": [
      "🔍 Original Article:\n",
      "\n",
      "The Indian Space Research Organisation (ISRO) successfully launched its Chandrayaan-3 mission on Friday, aiming to land a rover on the Moon's surface. \n",
      "This marks India's continued efforts in advancing space exploration and follows the Chandrayaan-2 mission, which partially failed in 2019. \n",
      "The spacecraft was launched from the Satish Dhawan Space Centre in Sriharikota at 2:35 pm. Scientists hope to gather valuable data about the lunar surface.\n",
      "\n",
      "🔍 GenZ Article:\n",
      "\n",
      "the desi squad 🇮🇳n 🚀 research organisation (isro) nailed it 🔥 blasted off 🚀 its chandrayaan-3 quest on friday, aiming to land a space car on the 🌕's outer layer. \n",
      "this marks desi squad 🇮🇳's continued efforts in advancing 🚀 exploration and follows the chandrayaan-2 quest, which partially flopped 💀 in 2019. \n",
      "the 🚀craft was blasted off 🚀 from the satish dhawan 🚀 centre in sriharikota at 2:35 pm. science gang 🧪 hope to snatch valuable intel about the lunar outer layer.\n",
      " this go hard fr\n",
      "\n",
      "📝 Summary:\n",
      "the spacecraft was launched from the Satish Dhawan Space Centre in Sriharikota at 2:35 pm on friday. this marks India's continued efforts in advancing space exploration and follows the Chandrayaan-2 mission.\n",
      "\n",
      "🔥 Gen Z Style Summary:\n",
      "the 🚀craft was blasted off 🚀 from the satish dhawan 🚀 centre in sriharikota at 2:35 pm on friday. this marks desi squad 🇮🇳's continued efforts in advancing 🚀 exploration and follows the chandrayaan-2 quest. bruh 😭\n"
     ]
    }
   ],
   "source": [
    "print(\"🔍 Original Article:\")\n",
    "print(sample_article)\n",
    "\n",
    "print(\"🔍 GenZ Article:\")\n",
    "print(genzify(sample_article))\n",
    "\n",
    "print(\"\\n📝 Summary:\")\n",
    "print(summary)\n",
    "\n",
    "print(\"\\n🔥 Gen Z Style Summary:\")\n",
    "print(genzify(summary))\n"
   ]
  },
  {
   "cell_type": "markdown",
   "metadata": {
    "id": "JYtt_ixJcj3e"
   },
   "source": [
    "#Pegasus Model\n"
   ]
  },
  {
   "cell_type": "code",
   "execution_count": 10,
   "metadata": {
    "colab": {
     "base_uri": "https://localhost:8080/"
    },
    "id": "CaU8U8jFW2ol",
    "outputId": "14565ac4-30cc-456a-e3ae-0502c8021c18"
   },
   "outputs": [
    {
     "name": "stdout",
     "output_type": "stream",
     "text": [
      "Requirement already satisfied: transformers in /usr/local/lib/python3.11/dist-packages (4.53.0)\n",
      "Requirement already satisfied: sentencepiece in /usr/local/lib/python3.11/dist-packages (0.2.0)\n",
      "Requirement already satisfied: filelock in /usr/local/lib/python3.11/dist-packages (from transformers) (3.18.0)\n",
      "Requirement already satisfied: huggingface-hub<1.0,>=0.30.0 in /usr/local/lib/python3.11/dist-packages (from transformers) (0.33.1)\n",
      "Requirement already satisfied: numpy>=1.17 in /usr/local/lib/python3.11/dist-packages (from transformers) (2.0.2)\n",
      "Requirement already satisfied: packaging>=20.0 in /usr/local/lib/python3.11/dist-packages (from transformers) (24.2)\n",
      "Requirement already satisfied: pyyaml>=5.1 in /usr/local/lib/python3.11/dist-packages (from transformers) (6.0.2)\n",
      "Requirement already satisfied: regex!=2019.12.17 in /usr/local/lib/python3.11/dist-packages (from transformers) (2024.11.6)\n",
      "Requirement already satisfied: requests in /usr/local/lib/python3.11/dist-packages (from transformers) (2.32.3)\n",
      "Requirement already satisfied: tokenizers<0.22,>=0.21 in /usr/local/lib/python3.11/dist-packages (from transformers) (0.21.2)\n",
      "Requirement already satisfied: safetensors>=0.4.3 in /usr/local/lib/python3.11/dist-packages (from transformers) (0.5.3)\n",
      "Requirement already satisfied: tqdm>=4.27 in /usr/local/lib/python3.11/dist-packages (from transformers) (4.67.1)\n",
      "Requirement already satisfied: fsspec>=2023.5.0 in /usr/local/lib/python3.11/dist-packages (from huggingface-hub<1.0,>=0.30.0->transformers) (2025.3.2)\n",
      "Requirement already satisfied: typing-extensions>=3.7.4.3 in /usr/local/lib/python3.11/dist-packages (from huggingface-hub<1.0,>=0.30.0->transformers) (4.14.0)\n",
      "Requirement already satisfied: hf-xet<2.0.0,>=1.1.2 in /usr/local/lib/python3.11/dist-packages (from huggingface-hub<1.0,>=0.30.0->transformers) (1.1.5)\n",
      "Requirement already satisfied: charset-normalizer<4,>=2 in /usr/local/lib/python3.11/dist-packages (from requests->transformers) (3.4.2)\n",
      "Requirement already satisfied: idna<4,>=2.5 in /usr/local/lib/python3.11/dist-packages (from requests->transformers) (3.10)\n",
      "Requirement already satisfied: urllib3<3,>=1.21.1 in /usr/local/lib/python3.11/dist-packages (from requests->transformers) (2.4.0)\n",
      "Requirement already satisfied: certifi>=2017.4.17 in /usr/local/lib/python3.11/dist-packages (from requests->transformers) (2025.6.15)\n"
     ]
    }
   ],
   "source": [
    "!pip install transformers sentencepiece\n"
   ]
  },
  {
   "cell_type": "code",
   "execution_count": 11,
   "metadata": {
    "colab": {
     "base_uri": "https://localhost:8080/",
     "height": 328,
     "referenced_widgets": [
      "4bd1d59dcc5f44938a051fbbc686a31c",
      "a4654cfea8cd441d9e22cc2317441d3c",
      "4c62b99f1b104521a4cd32d05d5ed513",
      "279316b35f9a4e82afb0f40470b2cf2d",
      "6f4da457d0bc47b9a3f6d328e7944773",
      "151b8e7a636f45c5b888649617fa39df",
      "0aedfe574dca4eda822f35e46badc61d",
      "1c8900ce06d14e86a6e3a0e99b408d05",
      "e57295b35f244ffd9ce05b24db95bc21",
      "3b3727eb682847a5ae9fbf38beeb50ce",
      "11f315d5353f4ad69f9ed2a97a736d11",
      "b180543ef4834bc29baeb2952e3a6649",
      "94cd05dbb87b4dc79c4c1eaa532a5ad0",
      "9764aa43942f46a89477164157321ed4",
      "76179c40ba2f48a7b8f9da8e50149e5d",
      "fc413bdc441e4277a44bb3c9bf5aa278",
      "634cc8dfde5c4db0992d9562edf62a58",
      "8dcbadb9717a40499042ba3be2fc1102",
      "eff81333162d483393498c6cca1a6f23",
      "3957c4e5f4cc49d883e832aa3dbef554",
      "ac6c4d00c53742a185d0020cfede58d5",
      "e8859b2bc8c3439c93a82840efcb5397",
      "830aaebc5f214495b655d8eb82a2c094",
      "5bda8c5baa6a40c19fdf2f20ff05c281",
      "b6afd0b378204e17a2985f82de83d0f9",
      "114bee1a31f84906b2eeb65ef3e5fe25",
      "a3afae4c646748df9d49d84806339df1",
      "223668a9fb784fe9b7c672bfe21a4b84",
      "6b6c6a8b97274d549607c695a77f4a2e",
      "3e1dfd1a9bc743bbaa96ceb44127b7fd",
      "05bc3a5260ab41248439c7dae6f27a96",
      "568e385f33eb41f4a1c50b4d5cd72394",
      "0df8c38c5f7b4d1bbc805433726689b4",
      "f6b6a074711c437b94f6c7d35bf4ae4c",
      "8947cf7174174000a62d6b0137eb2295",
      "9b66500f72044482ba83dd3e5d8c697e",
      "0350d651d2b84d32bcd1caea05b7aae9",
      "6bdd0cfa371f4be39fa9377a18969660",
      "958f460719ec42b7a65971a935451481",
      "d0866b5f167b4558be7329bad91ef399",
      "639299a328d14679b2fc8cb7f05f23cc",
      "62f5623d14214feca6346bb7b3dc5f9d",
      "e907dccedbac4f1f9a2c54e5228a7a21",
      "f6e0cf7806684ed899bd652d051f177d",
      "3df93be8773d4fb6b435ba5d930780fe",
      "e9b459f0e2d040968acd06caffa852af",
      "2ba18213fde14987a07b16bd2443667d",
      "a2333b3054ca4286a6f4e05d1f47fca2",
      "6149459b19ba45f3b6381e03143be44f",
      "d744b81f4822422ab4d666294ef48abd",
      "fd3f7985d57d428a9e3334baef71ec6e",
      "3f62e748bd0544128f5784e956861caf",
      "e38a2cbce89e40539f3570244e09b060",
      "6991eacacacf48d0917e1c47b8265e6a",
      "3b3fffeab921421abdaf3d72ab23bfa2",
      "dc49c271fcf94172b574728c357515d1",
      "fe6562e83bbb4c1ca9b56e2f4c4ae40b",
      "66bc276e49ca43199fa89a76619458f2",
      "307c0aff6c804a5d820ca88d9e104877",
      "325ae271254847a99d61d3e03d63254d",
      "49518fc33dbc49139501834d862c58bd",
      "b16dc03b85f84fb091044974072367f2",
      "8190ed5bf1154ba59276d7373aafdc2d",
      "625f932e45154ae0a4abd9e362b0060e",
      "ad0b6f5f89624ca898bf0a68f9bad0cb",
      "ce071488f73747c89b4614a1144489b7",
      "25e34f957365466eab2992bccb751a08",
      "9c75acde908848ec8650af30d33c8244",
      "3b3450f80c994bc080c245b2ff84e951",
      "5c428066fe624c52a47e64287e98029f",
      "d9fac63225fd45c1aeeb83cb888641c1",
      "bdcae272fc53463f9cab04a14c65a947",
      "5ab640b19c584961bc20eb24ef251d3c",
      "975bede8396d406faf2295cc647c585e",
      "aeacc22220164b3eb46b58f90eee84d1",
      "ee39b151d59b482ea9dd8ee145536055",
      "b372ebac8d914bfd957c2b6cfa06acd6",
      "7d4f1846cb61467fb8856ecf594eed6e",
      "361ce4a6d1f449f18154009b1dd9c602",
      "f2ee805ca4264a8d9be3a061e42aa089",
      "16ad0b8e7e164a80a76fbe4871d8bc04",
      "6303f438bc1342978432ee62480ff0fa",
      "165d5ebbb1854e81bed1f8c67dc7cfc1",
      "3d3f56f475c3405ab2ee1584d52aa4f1",
      "a6a5e2c3d73d4655bf3039048c7b986e",
      "e219a109248e4f219fa3cd7754eb8617",
      "d5a66b8b1e4245db971c2b2beaa58502",
      "bc196d89fdab4bf8a932a75c4b32e367"
     ]
    },
    "id": "kO5dhVzcW4-_",
    "outputId": "9c4d7876-8ce9-48c7-992b-4b3c1257d79f"
   },
   "outputs": [
    {
     "data": {
      "application/vnd.jupyter.widget-view+json": {
       "model_id": "4bd1d59dcc5f44938a051fbbc686a31c",
       "version_major": 2,
       "version_minor": 0
      },
      "text/plain": [
       "tokenizer_config.json:   0%|          | 0.00/87.0 [00:00<?, ?B/s]"
      ]
     },
     "metadata": {},
     "output_type": "display_data"
    },
    {
     "data": {
      "application/vnd.jupyter.widget-view+json": {
       "model_id": "b180543ef4834bc29baeb2952e3a6649",
       "version_major": 2,
       "version_minor": 0
      },
      "text/plain": [
       "spiece.model:   0%|          | 0.00/1.91M [00:00<?, ?B/s]"
      ]
     },
     "metadata": {},
     "output_type": "display_data"
    },
    {
     "data": {
      "application/vnd.jupyter.widget-view+json": {
       "model_id": "830aaebc5f214495b655d8eb82a2c094",
       "version_major": 2,
       "version_minor": 0
      },
      "text/plain": [
       "special_tokens_map.json:   0%|          | 0.00/65.0 [00:00<?, ?B/s]"
      ]
     },
     "metadata": {},
     "output_type": "display_data"
    },
    {
     "data": {
      "application/vnd.jupyter.widget-view+json": {
       "model_id": "f6b6a074711c437b94f6c7d35bf4ae4c",
       "version_major": 2,
       "version_minor": 0
      },
      "text/plain": [
       "tokenizer.json: 0.00B [00:00, ?B/s]"
      ]
     },
     "metadata": {},
     "output_type": "display_data"
    },
    {
     "data": {
      "application/vnd.jupyter.widget-view+json": {
       "model_id": "3df93be8773d4fb6b435ba5d930780fe",
       "version_major": 2,
       "version_minor": 0
      },
      "text/plain": [
       "config.json: 0.00B [00:00, ?B/s]"
      ]
     },
     "metadata": {},
     "output_type": "display_data"
    },
    {
     "data": {
      "application/vnd.jupyter.widget-view+json": {
       "model_id": "dc49c271fcf94172b574728c357515d1",
       "version_major": 2,
       "version_minor": 0
      },
      "text/plain": [
       "pytorch_model.bin:   0%|          | 0.00/2.28G [00:00<?, ?B/s]"
      ]
     },
     "metadata": {},
     "output_type": "display_data"
    },
    {
     "data": {
      "application/vnd.jupyter.widget-view+json": {
       "model_id": "25e34f957365466eab2992bccb751a08",
       "version_major": 2,
       "version_minor": 0
      },
      "text/plain": [
       "model.safetensors:   0%|          | 0.00/2.28G [00:00<?, ?B/s]"
      ]
     },
     "metadata": {},
     "output_type": "display_data"
    },
    {
     "name": "stderr",
     "output_type": "stream",
     "text": [
      "Some weights of PegasusForConditionalGeneration were not initialized from the model checkpoint at google/pegasus-xsum and are newly initialized: ['model.decoder.embed_positions.weight', 'model.encoder.embed_positions.weight']\n",
      "You should probably TRAIN this model on a down-stream task to be able to use it for predictions and inference.\n"
     ]
    },
    {
     "data": {
      "application/vnd.jupyter.widget-view+json": {
       "model_id": "7d4f1846cb61467fb8856ecf594eed6e",
       "version_major": 2,
       "version_minor": 0
      },
      "text/plain": [
       "generation_config.json:   0%|          | 0.00/259 [00:00<?, ?B/s]"
      ]
     },
     "metadata": {},
     "output_type": "display_data"
    }
   ],
   "source": [
    "from transformers import PegasusForConditionalGeneration, PegasusTokenizer\n",
    "import torch\n",
    "\n",
    "model_name = \"google/pegasus-xsum\"\n",
    "\n",
    "tokenizer = PegasusTokenizer.from_pretrained(model_name)\n",
    "model = PegasusForConditionalGeneration.from_pretrained(model_name)\n"
   ]
  },
  {
   "cell_type": "code",
   "execution_count": 12,
   "metadata": {
    "id": "xo0D1Z9_W9U8"
   },
   "outputs": [],
   "source": [
    "def summarize(text):\n",
    "    inputs = tokenizer(text, truncation=True, padding=\"longest\", return_tensors=\"pt\")\n",
    "    summary_ids = model.generate(\n",
    "        inputs[\"input_ids\"],\n",
    "        max_length=60,\n",
    "        min_length=20,\n",
    "        length_penalty=1.5,\n",
    "        num_beams=4,\n",
    "        early_stopping=True\n",
    "    )\n",
    "    return tokenizer.decode(summary_ids[0], skip_special_tokens=True)\n"
   ]
  },
  {
   "cell_type": "code",
   "execution_count": 13,
   "metadata": {
    "colab": {
     "base_uri": "https://localhost:8080/",
     "height": 34
    },
    "id": "eC5satSVX2x5",
    "outputId": "0d4b200f-52b6-481c-c1f7-acdd4ebc4371"
   },
   "outputs": [
    {
     "name": "stdout",
     "output_type": "stream",
     "text": [
      "Summary: The Indian Space Research Organisation (ISRO) has successfully put a satellite into orbit around the Moon.\n"
     ]
    }
   ],
   "source": [
    "article = \"\"\"\n",
    "Scientists at ISRO launched Chandrayaan-3 on a historic mission to explore the Moon's surface.\n",
    "This ambitious project aims to collect valuable data and demonstrate India's growing capabilities in space research.\n",
    "\"\"\"\n",
    "\n",
    "print(\"Summary:\", summarize(article))\n"
   ]
  },
  {
   "cell_type": "code",
   "execution_count": 14,
   "metadata": {
    "id": "1iJIU9f2YfkU"
   },
   "outputs": [],
   "source": [
    "import random\n",
    "\n",
    "def genzify(text):\n",
    "    slang = {\n",
    "        \"india\": \"desi squad 🇮🇳\",\n",
    "        \"government\": \"gvmnt\",\n",
    "        \"prime minister\": \"PM\",\n",
    "        \"scientists\": \"science gang 🧪\",\n",
    "        \"space\": \"🚀\",\n",
    "        \"moon\": \"🌕\",\n",
    "        \"rover\": \"space car\",\n",
    "        \"launched\": \"blasted off 🚀\",\n",
    "        \"data\": \"intel\",\n",
    "        \"gather\": \"snatch\",\n",
    "        \"collect\": \"snatch\",\n",
    "        \"explore\": \"vibe check\",\n",
    "        \"successfully\": \"nailed it 🔥\",\n",
    "        \"mission\": \"quest\",\n",
    "        \"failed\": \"flopped 💀\",\n",
    "        \"surface\": \"outer layer\",\n",
    "        \"research\": \"nerd mode\",\n",
    "    }\n",
    "\n",
    "    genz_text = text.lower()\n",
    "    for word, slang_word in slang.items():\n",
    "        genz_text = genz_text.replace(word, slang_word)\n",
    "\n",
    "    spice = [\"no cap.\", \"vibes 💯\", \"this go hard fr\", \"lowkey slay 🚀\", \"bruh 😭\"]\n",
    "    genz_text += \" \" + random.choice(spice)\n",
    "\n",
    "    return genz_text\n"
   ]
  },
  {
   "cell_type": "code",
   "execution_count": 15,
   "metadata": {
    "colab": {
     "base_uri": "https://localhost:8080/",
     "height": 52
    },
    "id": "eHyhYHm-Ygan",
    "outputId": "bf615cc8-98bc-47a9-b4d7-32b7dd7bb308"
   },
   "outputs": [
    {
     "name": "stdout",
     "output_type": "stream",
     "text": [
      "📝 Summary: The Indian Space Research Organisation (ISRO) has successfully launched its third mission to the Moon.\n",
      "🧃 GenZ Style Summary: the desi squad 🇮🇳n 🚀 nerd mode organisation (isro) has nailed it 🔥 blasted off 🚀 its third quest to the 🌕. bruh 😭\n"
     ]
    }
   ],
   "source": [
    "news_article = \"\"\"\n",
    "ISRO successfully launched Chandrayaan-3 to explore the Moon’s surface and collect scientific data.\n",
    "This marks a significant milestone in India's space research journey.\n",
    "\"\"\"\n",
    "\n",
    "# Step 1: Summarize\n",
    "summary = summarize(news_article)\n",
    "print(\"📝 Summary:\", summary)\n",
    "\n",
    "# Step 2: Genzify\n",
    "genz_summary = genzify(summary)\n",
    "print(\"🧃 GenZ Style Summary:\", genz_summary)\n"
   ]
  }
 ],
 "metadata": {
  "accelerator": "GPU",
  "colab": {
   "gpuType": "T4",
   "provenance": []
  },
  "kernelspec": {
   "display_name": "Python 3",
   "name": "python3"
  },
  "language_info": {
   "name": "python"
  }
 },
 "nbformat": 4,
 "nbformat_minor": 0
}
